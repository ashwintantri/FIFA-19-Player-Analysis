{
 "cells": [
  {
   "cell_type": "code",
   "execution_count": 1,
   "metadata": {},
   "outputs": [],
   "source": [
    "import csv\n",
    "from math import sqrt"
   ]
  },
  {
   "cell_type": "code",
   "execution_count": 2,
   "metadata": {},
   "outputs": [],
   "source": [
    "x = [] # This list stores the market value of the players\n",
    "y = [] # This list stores the wages of the players\n",
    "z = [] # This list will store the distance between the two quantities"
   ]
  },
  {
   "cell_type": "code",
   "execution_count": 3,
   "metadata": {},
   "outputs": [],
   "source": [
    "def getValsWages ():\n",
    "    with open('data.csv') as csvfile:\n",
    "        reader = csv.DictReader(csvfile)\n",
    "        for row in reader:\n",
    "            xTemp = row['Value']\n",
    "            valInMillions = False\n",
    "            valInThousands = False\n",
    "            if xTemp.count('M') == 1:\n",
    "                xTemp = xTemp.replace('M','')\n",
    "                valInMillions = True\n",
    "            elif xTemp.count('K') == 1:\n",
    "                xTemp = xTemp.replace('K','')\n",
    "                valInThousands = True\n",
    "            xTemp = xTemp.replace('€','')\n",
    "            if valInMillions == True:\n",
    "                xTemp = float(xTemp) * 1000000\n",
    "            elif valInThousands == True:\n",
    "                xTemp = float(xTemp) * 1000\n",
    "            else:\n",
    "                xTemp = float(xTemp)\n",
    "            yTemp = row['Wage']\n",
    "            yTemp = yTemp.replace('K','')\n",
    "            yTemp = yTemp.replace('€','')\n",
    "            yTemp = float(yTemp) * 1000 * 52\n",
    "            x.append(xTemp)\n",
    "            y.append(yTemp)"
   ]
  },
  {
   "cell_type": "code",
   "execution_count": 4,
   "metadata": {},
   "outputs": [],
   "source": [
    "def calcManhattanDistance ():\n",
    "    i = 0\n",
    "    while (i < len(x)):\n",
    "        result = (x[i] - y[i])\n",
    "        z.append(result)\n",
    "        i += 1"
   ]
  },
  {
   "cell_type": "code",
   "execution_count": 5,
   "metadata": {},
   "outputs": [],
   "source": [
    "getValsWages()\n",
    "calcManhattanDistance()"
   ]
  },
  {
   "cell_type": "code",
   "execution_count": null,
   "metadata": {},
   "outputs": [],
   "source": [
    "print('Index\\tMarketVal\\tType\\t\\tWage\\t\\tType\\t\\tManhattanDistance')\n",
    "for i in range(0,len(x)):\n",
    "    print(i,x[i],type(x[i]),y[i],type(y[i]),z[i],sep = '\\t')"
     
   ]
  },
  {
   "cell_type": "code",
   "execution_count": null,
   "metadata": {},
   "outputs": [],
   "source": []
  }
 ],
 "metadata": {
  "kernelspec": {
   "display_name": "Python 3",
   "language": "python",
   "name": "python3"
  },
  "language_info": {
   "codemirror_mode": {
    "name": "ipython",
    "version": 3
   },
   "file_extension": ".py",
   "mimetype": "text/x-python",
   "name": "python",
   "nbconvert_exporter": "python",
   "pygments_lexer": "ipython3",
   "version": "3.6.4"
  }
 },
 "nbformat": 4,
 "nbformat_minor": 2
}
